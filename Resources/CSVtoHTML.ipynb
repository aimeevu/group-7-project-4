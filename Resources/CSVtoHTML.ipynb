{
 "cells": [
  {
   "cell_type": "code",
   "execution_count": 1,
   "id": "28fb17db",
   "metadata": {},
   "outputs": [],
   "source": [
    "import pandas as pd"
   ]
  },
  {
   "cell_type": "code",
   "execution_count": 4,
   "id": "e0633ab7",
   "metadata": {},
   "outputs": [
    {
     "data": {
      "text/html": [
       "<div>\n",
       "<style scoped>\n",
       "    .dataframe tbody tr th:only-of-type {\n",
       "        vertical-align: middle;\n",
       "    }\n",
       "\n",
       "    .dataframe tbody tr th {\n",
       "        vertical-align: top;\n",
       "    }\n",
       "\n",
       "    .dataframe thead th {\n",
       "        text-align: right;\n",
       "    }\n",
       "</style>\n",
       "<table border=\"1\" class=\"dataframe\">\n",
       "  <thead>\n",
       "    <tr style=\"text-align: right;\">\n",
       "      <th></th>\n",
       "      <th>date</th>\n",
       "      <th>airline</th>\n",
       "      <th>ch_code</th>\n",
       "      <th>num_code</th>\n",
       "      <th>dep_time</th>\n",
       "      <th>from</th>\n",
       "      <th>time_taken</th>\n",
       "      <th>stop</th>\n",
       "      <th>arr_time</th>\n",
       "      <th>to</th>\n",
       "      <th>price</th>\n",
       "      <th>class</th>\n",
       "    </tr>\n",
       "  </thead>\n",
       "  <tbody>\n",
       "    <tr>\n",
       "      <th>197</th>\n",
       "      <td>12/2/2022</td>\n",
       "      <td>Air India</td>\n",
       "      <td>AI</td>\n",
       "      <td>762</td>\n",
       "      <td>20:15</td>\n",
       "      <td>Delhi</td>\n",
       "      <td>16h 10m</td>\n",
       "      <td>1-stop</td>\n",
       "      <td>12:25</td>\n",
       "      <td>Mumbai</td>\n",
       "      <td>160.0368</td>\n",
       "      <td>economy</td>\n",
       "    </tr>\n",
       "    <tr>\n",
       "      <th>198</th>\n",
       "      <td>12/2/2022</td>\n",
       "      <td>Air India</td>\n",
       "      <td>AI</td>\n",
       "      <td>764</td>\n",
       "      <td>16:55</td>\n",
       "      <td>Delhi</td>\n",
       "      <td>19h 30m</td>\n",
       "      <td>1-stop</td>\n",
       "      <td>12:25</td>\n",
       "      <td>Mumbai</td>\n",
       "      <td>160.0368</td>\n",
       "      <td>economy</td>\n",
       "    </tr>\n",
       "    <tr>\n",
       "      <th>199</th>\n",
       "      <td>12/2/2022</td>\n",
       "      <td>Air India</td>\n",
       "      <td>AI</td>\n",
       "      <td>885</td>\n",
       "      <td>10:55</td>\n",
       "      <td>Delhi</td>\n",
       "      <td>21h 25m</td>\n",
       "      <td>1-stop</td>\n",
       "      <td>8:20</td>\n",
       "      <td>Mumbai</td>\n",
       "      <td>160.0368</td>\n",
       "      <td>economy</td>\n",
       "    </tr>\n",
       "  </tbody>\n",
       "</table>\n",
       "</div>"
      ],
      "text/plain": [
       "          date    airline ch_code  num_code dep_time   from time_taken  \\\n",
       "197  12/2/2022  Air India      AI       762    20:15  Delhi    16h 10m   \n",
       "198  12/2/2022  Air India      AI       764    16:55  Delhi    19h 30m   \n",
       "199  12/2/2022  Air India      AI       885    10:55  Delhi    21h 25m   \n",
       "\n",
       "       stop arr_time      to     price    class  \n",
       "197  1-stop    12:25  Mumbai  160.0368  economy  \n",
       "198  1-stop    12:25  Mumbai  160.0368  economy  \n",
       "199  1-stop     8:20  Mumbai  160.0368  economy  "
      ]
     },
     "execution_count": 4,
     "metadata": {},
     "output_type": "execute_result"
    }
   ],
   "source": [
    "cityData = pd.read_csv('UnionAllDF.csv')\n",
    "cityData = cityData.head(200)\n",
    "cityData.tail(3)"
   ]
  },
  {
   "cell_type": "code",
   "execution_count": 5,
   "id": "08a34277",
   "metadata": {},
   "outputs": [],
   "source": [
    "cityData.to_html('tableData.html', index=False, classes=['table', 'table-striped', 'table-hover'])"
   ]
  },
  {
   "cell_type": "code",
   "execution_count": null,
   "id": "9049df54",
   "metadata": {},
   "outputs": [],
   "source": []
  }
 ],
 "metadata": {
  "kernelspec": {
   "display_name": "Python 3 (ipykernel)",
   "language": "python",
   "name": "python3"
  },
  "language_info": {
   "codemirror_mode": {
    "name": "ipython",
    "version": 3
   },
   "file_extension": ".py",
   "mimetype": "text/x-python",
   "name": "python",
   "nbconvert_exporter": "python",
   "pygments_lexer": "ipython3",
   "version": "3.9.12"
  }
 },
 "nbformat": 4,
 "nbformat_minor": 5
}
