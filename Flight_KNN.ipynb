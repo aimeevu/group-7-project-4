{
 "cells": [
  {
   "cell_type": "markdown",
   "id": "fc6a8628",
   "metadata": {},
   "source": [
    "# Flight KNN"
   ]
  },
  {
   "cell_type": "markdown",
   "id": "441c8638",
   "metadata": {},
   "source": [
    "### Include"
   ]
  },
  {
   "cell_type": "code",
   "execution_count": 1,
   "id": "19b52341",
   "metadata": {},
   "outputs": [],
   "source": [
    "from pathlib import *\n",
    "import pandas as pd\n",
    "import numpy as np\n",
    "import pickle\n",
    "from sklearn.neighbors import KNeighborsRegressor\n",
    "from sklearn.model_selection import train_test_split\n",
    "# Will help us visualize the results\n",
    "import matplotlib.pyplot as plt\n",
    "#import seaborn as sns\n",
    "import warnings"
   ]
  },
  {
   "cell_type": "markdown",
   "id": "465447dc",
   "metadata": {},
   "source": [
    "### Initialize"
   ]
  },
  {
   "cell_type": "code",
   "execution_count": 2,
   "id": "3edb53d0",
   "metadata": {},
   "outputs": [],
   "source": [
    "warnings.filterwarnings('ignore')\n",
    "\n",
    "# data folder\n",
    "data_folder = 'Resources'\n",
    "data_file = data_folder + '/FlightsWithTimeIntervals.csv'\n",
    "\n",
    "intervals = {'Early Morning':0,'Late Morning':1,'Early Afternoon':2,'Late Afternoon':3,'Evening':4,'Late Night':5}"
   ]
  },
  {
   "cell_type": "code",
   "execution_count": 3,
   "id": "3c2856b1",
   "metadata": {},
   "outputs": [
    {
     "data": {
      "text/html": [
       "<div>\n",
       "<style scoped>\n",
       "    .dataframe tbody tr th:only-of-type {\n",
       "        vertical-align: middle;\n",
       "    }\n",
       "\n",
       "    .dataframe tbody tr th {\n",
       "        vertical-align: top;\n",
       "    }\n",
       "\n",
       "    .dataframe thead th {\n",
       "        text-align: right;\n",
       "    }\n",
       "</style>\n",
       "<table border=\"1\" class=\"dataframe\">\n",
       "  <thead>\n",
       "    <tr style=\"text-align: right;\">\n",
       "      <th></th>\n",
       "      <th>flightid</th>\n",
       "      <th>flightdate</th>\n",
       "      <th>airlineid</th>\n",
       "      <th>stopid</th>\n",
       "      <th>flyfrom</th>\n",
       "      <th>flyto</th>\n",
       "      <th>flymins</th>\n",
       "      <th>scid</th>\n",
       "      <th>depart</th>\n",
       "      <th>arrive</th>\n",
       "      <th>fuelprice</th>\n",
       "      <th>price</th>\n",
       "    </tr>\n",
       "  </thead>\n",
       "  <tbody>\n",
       "    <tr>\n",
       "      <th>0</th>\n",
       "      <td>212095</td>\n",
       "      <td>2022-02-11</td>\n",
       "      <td>8</td>\n",
       "      <td>1</td>\n",
       "      <td>3</td>\n",
       "      <td>1</td>\n",
       "      <td>780</td>\n",
       "      <td>1</td>\n",
       "      <td>Evening</td>\n",
       "      <td>Early Morning</td>\n",
       "      <td>2.8</td>\n",
       "      <td>913.56496</td>\n",
       "    </tr>\n",
       "    <tr>\n",
       "      <th>1</th>\n",
       "      <td>170840</td>\n",
       "      <td>2022-02-11</td>\n",
       "      <td>4</td>\n",
       "      <td>3</td>\n",
       "      <td>4</td>\n",
       "      <td>5</td>\n",
       "      <td>120</td>\n",
       "      <td>2</td>\n",
       "      <td>Late Afternoon</td>\n",
       "      <td>Evening</td>\n",
       "      <td>2.8</td>\n",
       "      <td>138.94496</td>\n",
       "    </tr>\n",
       "    <tr>\n",
       "      <th>2</th>\n",
       "      <td>165629</td>\n",
       "      <td>2022-02-11</td>\n",
       "      <td>3</td>\n",
       "      <td>3</td>\n",
       "      <td>4</td>\n",
       "      <td>1</td>\n",
       "      <td>75</td>\n",
       "      <td>2</td>\n",
       "      <td>Early Afternoon</td>\n",
       "      <td>Early Afternoon</td>\n",
       "      <td>2.8</td>\n",
       "      <td>54.84864</td>\n",
       "    </tr>\n",
       "  </tbody>\n",
       "</table>\n",
       "</div>"
      ],
      "text/plain": [
       "   flightid  flightdate  airlineid  stopid  flyfrom  flyto  flymins  scid  \\\n",
       "0    212095  2022-02-11          8       1        3      1      780     1   \n",
       "1    170840  2022-02-11          4       3        4      5      120     2   \n",
       "2    165629  2022-02-11          3       3        4      1       75     2   \n",
       "\n",
       "            depart           arrive  fuelprice      price  \n",
       "0          Evening    Early Morning        2.8  913.56496  \n",
       "1   Late Afternoon          Evening        2.8  138.94496  \n",
       "2  Early Afternoon  Early Afternoon        2.8   54.84864  "
      ]
     },
     "execution_count": 3,
     "metadata": {},
     "output_type": "execute_result"
    }
   ],
   "source": [
    "# load raw data\n",
    "DF = pd.read_csv(Path(data_file))\n",
    "DF.head(3)"
   ]
  },
  {
   "cell_type": "code",
   "execution_count": 4,
   "id": "30fe42f9",
   "metadata": {},
   "outputs": [],
   "source": [
    "DF['arrive'] = DF['arrive'].replace(intervals)\n",
    "DF['depart'] = DF['depart'].replace(intervals)\n",
    "DF['flightdate'] = pd.to_datetime(DF['flightdate'])\n",
    "DF['weekday'] = DF['flightdate'].dt.weekday\n",
    "\n",
    "X = DF[['airlineid','stopid','flyfrom','flyto','flymins','scid','depart','arrive','fuelprice']]\n",
    "y = DF[['price']]"
   ]
  },
  {
   "cell_type": "markdown",
   "id": "39d4a525",
   "metadata": {},
   "source": [
    "Adding in the day of the week as a independent variable made our model less accurate and we have removed it from our pricing model."
   ]
  },
  {
   "cell_type": "code",
   "execution_count": 5,
   "id": "896a6f7f",
   "metadata": {},
   "outputs": [],
   "source": [
    "X_train, X_test, y_train, y_test, = train_test_split(X, y, random_state=42)"
   ]
  },
  {
   "cell_type": "code",
   "execution_count": 6,
   "id": "532f387d",
   "metadata": {},
   "outputs": [
    {
     "data": {
      "text/html": [
       "<div>\n",
       "<style scoped>\n",
       "    .dataframe tbody tr th:only-of-type {\n",
       "        vertical-align: middle;\n",
       "    }\n",
       "\n",
       "    .dataframe tbody tr th {\n",
       "        vertical-align: top;\n",
       "    }\n",
       "\n",
       "    .dataframe thead th {\n",
       "        text-align: right;\n",
       "    }\n",
       "</style>\n",
       "<table border=\"1\" class=\"dataframe\">\n",
       "  <thead>\n",
       "    <tr style=\"text-align: right;\">\n",
       "      <th></th>\n",
       "      <th>airlineid</th>\n",
       "      <th>stopid</th>\n",
       "      <th>flyfrom</th>\n",
       "      <th>flyto</th>\n",
       "      <th>flymins</th>\n",
       "      <th>scid</th>\n",
       "      <th>depart</th>\n",
       "      <th>arrive</th>\n",
       "      <th>fuelprice</th>\n",
       "    </tr>\n",
       "  </thead>\n",
       "  <tbody>\n",
       "    <tr>\n",
       "      <th>300256</th>\n",
       "      <td>4</td>\n",
       "      <td>1</td>\n",
       "      <td>1</td>\n",
       "      <td>3</td>\n",
       "      <td>480</td>\n",
       "      <td>2</td>\n",
       "      <td>1</td>\n",
       "      <td>3</td>\n",
       "      <td>3.835</td>\n",
       "    </tr>\n",
       "    <tr>\n",
       "      <th>300257</th>\n",
       "      <td>4</td>\n",
       "      <td>1</td>\n",
       "      <td>1</td>\n",
       "      <td>4</td>\n",
       "      <td>280</td>\n",
       "      <td>2</td>\n",
       "      <td>2</td>\n",
       "      <td>4</td>\n",
       "      <td>3.835</td>\n",
       "    </tr>\n",
       "    <tr>\n",
       "      <th>300258</th>\n",
       "      <td>1</td>\n",
       "      <td>3</td>\n",
       "      <td>1</td>\n",
       "      <td>3</td>\n",
       "      <td>165</td>\n",
       "      <td>2</td>\n",
       "      <td>5</td>\n",
       "      <td>0</td>\n",
       "      <td>3.835</td>\n",
       "    </tr>\n",
       "  </tbody>\n",
       "</table>\n",
       "</div>"
      ],
      "text/plain": [
       "        airlineid  stopid  flyfrom  flyto  flymins  scid  depart  arrive  \\\n",
       "300256          4       1        1      3      480     2       1       3   \n",
       "300257          4       1        1      4      280     2       2       4   \n",
       "300258          1       3        1      3      165     2       5       0   \n",
       "\n",
       "        fuelprice  \n",
       "300256      3.835  \n",
       "300257      3.835  \n",
       "300258      3.835  "
      ]
     },
     "execution_count": 6,
     "metadata": {},
     "output_type": "execute_result"
    }
   ],
   "source": [
    "X.tail(3)"
   ]
  },
  {
   "cell_type": "markdown",
   "id": "c8cb16f7",
   "metadata": {},
   "source": [
    "### Creating the model"
   ]
  },
  {
   "cell_type": "code",
   "execution_count": null,
   "id": "520f76d0",
   "metadata": {},
   "outputs": [
    {
     "name": "stdout",
     "output_type": "stream",
     "text": [
      "k: 1, Train/Test Score: 0.993/0.953\n",
      "k: 3, Train/Test Score: 0.980/0.955\n",
      "k: 5, Train/Test Score: 0.968/0.945\n",
      "k: 7, Train/Test Score: 0.956/0.936\n",
      "k: 9, Train/Test Score: 0.948/0.931\n",
      "k: 11, Train/Test Score: 0.942/0.927\n",
      "k: 13, Train/Test Score: 0.937/0.922\n",
      "k: 15, Train/Test Score: 0.930/0.916\n"
     ]
    }
   ],
   "source": [
    "train_scores = []\n",
    "test_scores = []\n",
    "\n",
    "for k in range(1, 20, 2):\n",
    "    clf = KNeighborsRegressor(n_neighbors=k)\n",
    "    clf.fit(X_train, y_train)\n",
    "    train_score = clf.score(X_train, y_train)\n",
    "    test_score = clf.score(X_test, y_test)\n",
    "    train_scores.append(train_score)\n",
    "    test_scores.append(test_score)\n",
    "    print(f\"k: {k}, Train/Test Score: {train_score:.3f}/{test_score:.3f}\")"
   ]
  },
  {
   "cell_type": "code",
   "execution_count": null,
   "id": "f9d1b9a8",
   "metadata": {},
   "outputs": [],
   "source": [
    "plt.plot(range(1, 11, 1), train_scores, marker='o')\n",
    "plt.plot(range(1, 11, 1), test_scores, marker=\"x\")\n",
    "plt.xlabel(\"k neighbors\")\n",
    "plt.ylabel(\"Testing accuracy Score\")\n",
    "plt.show()"
   ]
  },
  {
   "cell_type": "code",
   "execution_count": null,
   "id": "c38aa53b",
   "metadata": {},
   "outputs": [],
   "source": [
    "#chose k = 3\n",
    "clf = KNeighborsRegressor(n_neighbors=3)\n",
    "clf.fit(X_train, y_train)"
   ]
  },
  {
   "cell_type": "markdown",
   "id": "5c463f5a",
   "metadata": {},
   "source": [
    "### Predicting a sample"
   ]
  },
  {
   "cell_type": "code",
   "execution_count": null,
   "id": "282325e2",
   "metadata": {},
   "outputs": [],
   "source": [
    "current_fuel_price = 3.198\n",
    "x_pred = [8, 1, 2, 5, 590, 1, 0, 3, current_fuel_price]\n",
    "\n",
    "# Use the fitted model to predict the y-value of the sample\n",
    "y_pred = clf.predict([x_pred])\n",
    "\n",
    "# Display the predicted value\n",
    "y_pred"
   ]
  },
  {
   "cell_type": "markdown",
   "id": "be07c51b",
   "metadata": {},
   "source": [
    "### Save the Model"
   ]
  },
  {
   "cell_type": "code",
   "execution_count": null,
   "id": "eaaa5386",
   "metadata": {},
   "outputs": [],
   "source": [
    "# Save the Modle to file in the current working directory\n",
    "\n",
    "Pkl_Filename = \"Model_KNN.pkl\"  \n",
    "\n",
    "with open(Pkl_Filename, 'wb') as file:  \n",
    "    pickle.dump(clf, file)"
   ]
  },
  {
   "cell_type": "code",
   "execution_count": null,
   "id": "1bd819fb",
   "metadata": {},
   "outputs": [],
   "source": []
  }
 ],
 "metadata": {
  "kernelspec": {
   "display_name": "Python 3 (ipykernel)",
   "language": "python",
   "name": "python3"
  },
  "language_info": {
   "codemirror_mode": {
    "name": "ipython",
    "version": 3
   },
   "file_extension": ".py",
   "mimetype": "text/x-python",
   "name": "python",
   "nbconvert_exporter": "python",
   "pygments_lexer": "ipython3",
   "version": "3.9.12"
  }
 },
 "nbformat": 4,
 "nbformat_minor": 5
}
